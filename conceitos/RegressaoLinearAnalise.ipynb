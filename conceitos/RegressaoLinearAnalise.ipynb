{
 "cells": [
  {
   "cell_type": "markdown",
   "metadata": {},
   "source": [
    "# Estatística em Python - Análise da Regressão"
   ]
  },
  {
   "cell_type": "markdown",
   "metadata": {},
   "source": [
    "### Regressão\n",
    "O objetivo de uma regressão é modelar a relação entre uma variável dependente (target) e uma variável\n",
    "independente, ou um conjunto de variáveis independentes."
   ]
  },
  {
   "cell_type": "code",
   "execution_count": null,
   "metadata": {},
   "outputs": [],
   "source": [
    "import matplotlib.pyplot as plt\n",
    "import pandas as pd\n",
    "import numpy as np\n",
    "import warnings\n",
    "warnings.filterwarnings(\"ignore\")"
   ]
  },
  {
   "cell_type": "code",
   "execution_count": null,
   "metadata": {},
   "outputs": [],
   "source": [
    "x = [49.0,65.0,45.0,40.0,55.0,45.0,44.0,47.0,50.0,56.0]\n",
    "y = [24.0,40.0,25.0,23.5,33.5,22.0,22.5,23.5,25.0,35.0]\n",
    "dados = {'X': x, 'Y': y}"
   ]
  },
  {
   "cell_type": "code",
   "execution_count": null,
   "metadata": {},
   "outputs": [],
   "source": [
    "df = pd.DataFrame(dados)\n",
    "df.head(5)"
   ]
  },
  {
   "cell_type": "code",
   "execution_count": null,
   "metadata": {},
   "outputs": [],
   "source": [
    "plt.figure(figsize=(8, 5))\n",
    "plt.title('Relação entre as variáveis X e Y')\n",
    "plt.scatter(df['X'],df['Y'])\n",
    "plt.xlabel('Variável Independente X')\n",
    "plt.ylabel('Variável Dependente Y')\n",
    "plt.grid(True)\n",
    "plt.show()"
   ]
  },
  {
   "cell_type": "code",
   "execution_count": null,
   "metadata": {},
   "outputs": [],
   "source": [
    "df.sum()"
   ]
  },
  {
   "cell_type": "code",
   "execution_count": null,
   "metadata": {},
   "outputs": [],
   "source": [
    "df.mean()"
   ]
  },
  {
   "cell_type": "code",
   "execution_count": null,
   "metadata": {},
   "outputs": [],
   "source": [
    "df['x'] = df['X'] - df['X'].mean()\n",
    "df['y'] = df['Y'] - df['Y'].mean()\n",
    "df['x^2'] = (df['X'] - df['X'].mean())**2\n",
    "df['y^2'] = (df['Y'] - df['Y'].mean())**2\n",
    "df['xy'] = df['x']*df['y']\n",
    "df.head()"
   ]
  },
  {
   "cell_type": "code",
   "execution_count": null,
   "metadata": {},
   "outputs": [],
   "source": [
    "beta = df['xy'].sum() / df['x^2'].sum()\n",
    "print(\"Beta:\", beta)"
   ]
  },
  {
   "cell_type": "code",
   "execution_count": null,
   "metadata": {},
   "outputs": [],
   "source": [
    "alfa = df['Y'].mean() - beta*df['X'].mean()\n",
    "print(\"Alfa:\", alfa)"
   ]
  },
  {
   "cell_type": "code",
   "execution_count": null,
   "metadata": {},
   "outputs": [],
   "source": [
    "# Cálculo da reta de regressão\n",
    "reta = [alfa+beta*x for x in df['X']] # Previsto\n",
    "reta"
   ]
  },
  {
   "cell_type": "code",
   "execution_count": null,
   "metadata": {},
   "outputs": [],
   "source": [
    "# Adicionamos a reta no gráfico:\n",
    "plt.figure(figsize = (8, 5))\n",
    "plt.scatter(df['X'], df['Y'])\n",
    "plt.plot(df['X'], reta, color='r')\n",
    "plt.title('Relação entre as variáveis X e Y', pad=20)\n",
    "plt.xlabel('Variável independente X')\n",
    "plt.ylabel('Variável dependente Y')\n",
    "plt.grid(True)\n",
    "plt.show()"
   ]
  },
  {
   "cell_type": "code",
   "execution_count": null,
   "metadata": {},
   "outputs": [],
   "source": [
    "# Adicionar os valores no DataFrame\n",
    "df['Y-Y^'] = df['Y'] -reta             # Resíduo\n",
    "df['(Y-Y^)^2'] = (df['Y'] -reta)**2\n",
    "df['Y^'] = reta                        # Previsto\n",
    "df.head()"
   ]
  },
  {
   "cell_type": "code",
   "execution_count": null,
   "metadata": {},
   "outputs": [],
   "source": [
    "# Calcular o SQT, SQE, SQR e R2\n",
    "SQT = df['y^2'].sum().round(2)\n",
    "SQE = sum((df['Y^'] - df['Y^'].mean())**2)\n",
    "SQR = round(sum(df['(Y-Y^)^2']),2)\n",
    "R2 = SQE/SQT\n",
    "round(R2*100,2)\n",
    "\n",
    "print(\"Soma de quadrado total:\", SQT)\n",
    "print(\"Soma de quadrados devida ao erro aleatório:\", SQE)\n",
    "print(\"Soma de quadrados da regressão:\", SQR)\n",
    "print(\"Coeficiente de determinação:\", R2)"
   ]
  },
  {
   "cell_type": "markdown",
   "metadata": {},
   "source": [
    "### Usando o pacote statsmodels"
   ]
  },
  {
   "cell_type": "code",
   "execution_count": null,
   "metadata": {},
   "outputs": [],
   "source": [
    "import statsmodels.api as sm"
   ]
  },
  {
   "cell_type": "code",
   "execution_count": null,
   "metadata": {},
   "outputs": [],
   "source": [
    "X = df['X']\n",
    "X = sm.add_constant(X)\n",
    "Y = df['Y']\n",
    "resultados = sm.OLS(Y,X).fit()"
   ]
  },
  {
   "cell_type": "code",
   "execution_count": null,
   "metadata": {},
   "outputs": [],
   "source": [
    "resultados.summary()"
   ]
  },
  {
   "cell_type": "markdown",
   "metadata": {},
   "source": [
    "Até a próxima<br>\n",
    "Fernando Anselmo"
   ]
  }
 ],
 "metadata": {
  "kernelspec": {
   "display_name": "Python 3",
   "language": "python",
   "name": "python3"
  },
  "language_info": {
   "codemirror_mode": {
    "name": "ipython",
    "version": 3
   },
   "file_extension": ".py",
   "mimetype": "text/x-python",
   "name": "python",
   "nbconvert_exporter": "python",
   "pygments_lexer": "ipython3",
   "version": "3.7.9"
  }
 },
 "nbformat": 4,
 "nbformat_minor": 4
}
