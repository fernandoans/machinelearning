{
 "cells": [
  {
   "cell_type": "code",
   "execution_count": 1,
   "metadata": {},
   "outputs": [],
   "source": [
    "import matplotlib.pyplot as plt\n",
    "import pandas as pd\n",
    "import numpy as np\n",
    "\n",
    "%matplotlib inline"
   ]
  },
  {
   "cell_type": "code",
   "execution_count": 3,
   "metadata": {},
   "outputs": [
    {
     "data": {
      "text/html": [
       "<div>\n",
       "<style scoped>\n",
       "    .dataframe tbody tr th:only-of-type {\n",
       "        vertical-align: middle;\n",
       "    }\n",
       "\n",
       "    .dataframe tbody tr th {\n",
       "        vertical-align: top;\n",
       "    }\n",
       "\n",
       "    .dataframe thead th {\n",
       "        text-align: right;\n",
       "    }\n",
       "</style>\n",
       "<table border=\"1\" class=\"dataframe\">\n",
       "  <thead>\n",
       "    <tr style=\"text-align: right;\">\n",
       "      <th></th>\n",
       "      <th>X</th>\n",
       "      <th>Y</th>\n",
       "    </tr>\n",
       "  </thead>\n",
       "  <tbody>\n",
       "    <tr>\n",
       "      <th>0</th>\n",
       "      <td>49.0</td>\n",
       "      <td>24.0</td>\n",
       "    </tr>\n",
       "    <tr>\n",
       "      <th>1</th>\n",
       "      <td>65.0</td>\n",
       "      <td>40.0</td>\n",
       "    </tr>\n",
       "    <tr>\n",
       "      <th>2</th>\n",
       "      <td>45.0</td>\n",
       "      <td>25.0</td>\n",
       "    </tr>\n",
       "    <tr>\n",
       "      <th>3</th>\n",
       "      <td>40.0</td>\n",
       "      <td>23.5</td>\n",
       "    </tr>\n",
       "    <tr>\n",
       "      <th>4</th>\n",
       "      <td>55.0</td>\n",
       "      <td>33.5</td>\n",
       "    </tr>\n",
       "  </tbody>\n",
       "</table>\n",
       "</div>"
      ],
      "text/plain": [
       "      X     Y\n",
       "0  49.0  24.0\n",
       "1  65.0  40.0\n",
       "2  45.0  25.0\n",
       "3  40.0  23.5\n",
       "4  55.0  33.5"
      ]
     },
     "execution_count": 3,
     "metadata": {},
     "output_type": "execute_result"
    }
   ],
   "source": [
    "x = [49.0, 65.0, 45.0, 40.0, 55.0, 45.0, 44.0, 47.0, 50.0, 56.0]\n",
    "y = [24.0, 40.0, 25.0, 23.5, 33.5, 22.0, 22.5, 23.5, 25.0, 35.0]\n",
    "dados = {'X': x, 'Y': y}\n",
    "df = pd.DataFrame(dados)\n",
    "df.head()"
   ]
  },
  {
   "cell_type": "code",
   "execution_count": 20,
   "metadata": {},
   "outputs": [
    {
     "data": {
      "image/png": "[encoded data removed]",
      "text/plain": [
       "<Figure size 576x360 with 1 Axes>"
      ]
     },
     "metadata": {
      "needs_background": "light"
     },
     "output_type": "display_data"
    }
   ],
   "source": [
    "plt.figure(figsize=(8,5))\n",
    "plt.title('Relação entre as Variáveis X e Y')\n",
    "plt.scatter(df['X'], df['Y'])\n",
    "plt.xlabel('Peso (Kg)')\n",
    "plt.ylabel('Rend.Carcaça (Kg)')\n",
    "plt.grid(True)\n",
    "plt.show()"
   ]
  },
  {
   "cell_type": "code",
   "execution_count": 5,
   "metadata": {},
   "outputs": [
    {
     "data": {
      "text/plain": [
       "X    496.0\n",
       "Y    274.0\n",
       "dtype: float64"
      ]
     },
     "execution_count": 5,
     "metadata": {},
     "output_type": "execute_result"
    }
   ],
   "source": [
    "df.sum()"
   ]
  },
  {
   "cell_type": "code",
   "execution_count": 6,
   "metadata": {},
   "outputs": [
    {
     "data": {
      "text/plain": [
       "X    49.6\n",
       "Y    27.4\n",
       "dtype: float64"
      ]
     },
     "execution_count": 6,
     "metadata": {},
     "output_type": "execute_result"
    }
   ],
   "source": [
    "df.mean()"
   ]
  },
  {
   "cell_type": "code",
   "execution_count": 14,
   "metadata": {},
   "outputs": [
    {
     "data": {
      "text/html": [
       "<div>\n",
       "<style scoped>\n",
       "    .dataframe tbody tr th:only-of-type {\n",
       "        vertical-align: middle;\n",
       "    }\n",
       "\n",
       "    .dataframe tbody tr th {\n",
       "        vertical-align: top;\n",
       "    }\n",
       "\n",
       "    .dataframe thead th {\n",
       "        text-align: right;\n",
       "    }\n",
       "</style>\n",
       "<table border=\"1\" class=\"dataframe\">\n",
       "  <thead>\n",
       "    <tr style=\"text-align: right;\">\n",
       "      <th></th>\n",
       "      <th>X</th>\n",
       "      <th>Y</th>\n",
       "      <th>x</th>\n",
       "      <th>y</th>\n",
       "      <th>x^2</th>\n",
       "      <th>y^2</th>\n",
       "      <th>xy</th>\n",
       "    </tr>\n",
       "  </thead>\n",
       "  <tbody>\n",
       "    <tr>\n",
       "      <th>0</th>\n",
       "      <td>49.0</td>\n",
       "      <td>24.0</td>\n",
       "      <td>-0.6</td>\n",
       "      <td>-3.4</td>\n",
       "      <td>0.36</td>\n",
       "      <td>11.56</td>\n",
       "      <td>2.04</td>\n",
       "    </tr>\n",
       "    <tr>\n",
       "      <th>1</th>\n",
       "      <td>65.0</td>\n",
       "      <td>40.0</td>\n",
       "      <td>15.4</td>\n",
       "      <td>12.6</td>\n",
       "      <td>237.16</td>\n",
       "      <td>158.76</td>\n",
       "      <td>194.04</td>\n",
       "    </tr>\n",
       "    <tr>\n",
       "      <th>2</th>\n",
       "      <td>45.0</td>\n",
       "      <td>25.0</td>\n",
       "      <td>-4.6</td>\n",
       "      <td>-2.4</td>\n",
       "      <td>21.16</td>\n",
       "      <td>5.76</td>\n",
       "      <td>11.04</td>\n",
       "    </tr>\n",
       "    <tr>\n",
       "      <th>3</th>\n",
       "      <td>40.0</td>\n",
       "      <td>23.5</td>\n",
       "      <td>-9.6</td>\n",
       "      <td>-3.9</td>\n",
       "      <td>92.16</td>\n",
       "      <td>15.21</td>\n",
       "      <td>37.44</td>\n",
       "    </tr>\n",
       "    <tr>\n",
       "      <th>4</th>\n",
       "      <td>55.0</td>\n",
       "      <td>33.5</td>\n",
       "      <td>5.4</td>\n",
       "      <td>6.1</td>\n",
       "      <td>29.16</td>\n",
       "      <td>37.21</td>\n",
       "      <td>32.94</td>\n",
       "    </tr>\n",
       "  </tbody>\n",
       "</table>\n",
       "</div>"
      ],
      "text/plain": [
       "      X     Y     x     y     x^2     y^2      xy\n",
       "0  49.0  24.0  -0.6  -3.4    0.36   11.56    2.04\n",
       "1  65.0  40.0  15.4  12.6  237.16  158.76  194.04\n",
       "2  45.0  25.0  -4.6  -2.4   21.16    5.76   11.04\n",
       "3  40.0  23.5  -9.6  -3.9   92.16   15.21   37.44\n",
       "4  55.0  33.5   5.4   6.1   29.16   37.21   32.94"
      ]
     },
     "execution_count": 14,
     "metadata": {},
     "output_type": "execute_result"
    }
   ],
   "source": [
    "df['x'] = df.X - df.X.mean()\n",
    "df['y'] = df.Y - df.Y.mean()\n",
    "df['x^2'] = (df.X - df.X.mean())**2\n",
    "df['y^2'] = (df.Y - df.Y.mean())**2\n",
    "df['xy'] = df['x'] * df['y']\n",
    "df.head()"
   ]
  },
  {
   "cell_type": "code",
   "execution_count": 15,
   "metadata": {},
   "outputs": [
    {
     "name": "stdout",
     "output_type": "stream",
     "text": [
      "Beta: 0.8068276436303079  Alpha: -12.618651124063277\n"
     ]
    }
   ],
   "source": [
    "beta = df.xy.sum() / df['x^2'].sum()\n",
    "alfa = df.Y.mean() - beta * df.X.mean()\n",
    "\n",
    "print('Beta:', beta, ' Alpha:', alfa)"
   ]
  },
  {
   "cell_type": "code",
   "execution_count": 16,
   "metadata": {},
   "outputs": [
    {
     "data": {
      "text/plain": [
       "[26.91590341382181,\n",
       " 39.825145711906735,\n",
       " 23.688592839300576,\n",
       " 19.654454621149043,\n",
       " 31.756869275603655,\n",
       " 23.688592839300576,\n",
       " 22.88176519567027,\n",
       " 25.302248126561196,\n",
       " 27.722731057452116,\n",
       " 32.56369691923396]"
      ]
     },
     "execution_count": 16,
     "metadata": {},
     "output_type": "execute_result"
    }
   ],
   "source": [
    "reta = [alfa + beta * x for x in df.X]\n",
    "reta"
   ]
  },
  {
   "cell_type": "code",
   "execution_count": 17,
   "metadata": {},
   "outputs": [
    {
     "data": {
      "image/png": "[encoded data removed]",
      "text/plain": [
       "<Figure size 576x360 with 1 Axes>"
      ]
     },
     "metadata": {
      "needs_background": "light"
     },
     "output_type": "display_data"
    }
   ],
   "source": [
    "plt.figure(figsize=(8,5))\n",
    "plt.title('Relação entre as Variáveis X e Y')\n",
    "plt.plot(df['X'], reta, color='r')\n",
    "plt.scatter(df['X'], df['Y'])\n",
    "plt.xlabel('Peso (Kg)')\n",
    "plt.ylabel('Rend.Carcaça (Kg)')\n",
    "plt.grid(True)\n",
    "plt.show()"
   ]
  },
  {
   "cell_type": "code",
   "execution_count": 18,
   "metadata": {},
   "outputs": [
    {
     "data": {
      "text/html": [
       "<div>\n",
       "<style scoped>\n",
       "    .dataframe tbody tr th:only-of-type {\n",
       "        vertical-align: middle;\n",
       "    }\n",
       "\n",
       "    .dataframe tbody tr th {\n",
       "        vertical-align: top;\n",
       "    }\n",
       "\n",
       "    .dataframe thead th {\n",
       "        text-align: right;\n",
       "    }\n",
       "</style>\n",
       "<table border=\"1\" class=\"dataframe\">\n",
       "  <thead>\n",
       "    <tr style=\"text-align: right;\">\n",
       "      <th></th>\n",
       "      <th>X</th>\n",
       "      <th>Y</th>\n",
       "      <th>x</th>\n",
       "      <th>y</th>\n",
       "      <th>x^2</th>\n",
       "      <th>y^2</th>\n",
       "      <th>xy</th>\n",
       "      <th>Y-Y^</th>\n",
       "      <th>(Y-Y^)^2</th>\n",
       "      <th>Y^</th>\n",
       "    </tr>\n",
       "  </thead>\n",
       "  <tbody>\n",
       "    <tr>\n",
       "      <th>0</th>\n",
       "      <td>49.0</td>\n",
       "      <td>24.0</td>\n",
       "      <td>-0.6</td>\n",
       "      <td>-3.4</td>\n",
       "      <td>0.36</td>\n",
       "      <td>11.56</td>\n",
       "      <td>2.04</td>\n",
       "      <td>-2.915903</td>\n",
       "      <td>8.502493</td>\n",
       "      <td>26.915903</td>\n",
       "    </tr>\n",
       "    <tr>\n",
       "      <th>1</th>\n",
       "      <td>65.0</td>\n",
       "      <td>40.0</td>\n",
       "      <td>15.4</td>\n",
       "      <td>12.6</td>\n",
       "      <td>237.16</td>\n",
       "      <td>158.76</td>\n",
       "      <td>194.04</td>\n",
       "      <td>0.174854</td>\n",
       "      <td>0.030574</td>\n",
       "      <td>39.825146</td>\n",
       "    </tr>\n",
       "    <tr>\n",
       "      <th>2</th>\n",
       "      <td>45.0</td>\n",
       "      <td>25.0</td>\n",
       "      <td>-4.6</td>\n",
       "      <td>-2.4</td>\n",
       "      <td>21.16</td>\n",
       "      <td>5.76</td>\n",
       "      <td>11.04</td>\n",
       "      <td>1.311407</td>\n",
       "      <td>1.719789</td>\n",
       "      <td>23.688593</td>\n",
       "    </tr>\n",
       "    <tr>\n",
       "      <th>3</th>\n",
       "      <td>40.0</td>\n",
       "      <td>23.5</td>\n",
       "      <td>-9.6</td>\n",
       "      <td>-3.9</td>\n",
       "      <td>92.16</td>\n",
       "      <td>15.21</td>\n",
       "      <td>37.44</td>\n",
       "      <td>3.845545</td>\n",
       "      <td>14.788219</td>\n",
       "      <td>19.654455</td>\n",
       "    </tr>\n",
       "    <tr>\n",
       "      <th>4</th>\n",
       "      <td>55.0</td>\n",
       "      <td>33.5</td>\n",
       "      <td>5.4</td>\n",
       "      <td>6.1</td>\n",
       "      <td>29.16</td>\n",
       "      <td>37.21</td>\n",
       "      <td>32.94</td>\n",
       "      <td>1.743131</td>\n",
       "      <td>3.038505</td>\n",
       "      <td>31.756869</td>\n",
       "    </tr>\n",
       "  </tbody>\n",
       "</table>\n",
       "</div>"
      ],
      "text/plain": [
       "      X     Y     x     y     x^2     y^2      xy      Y-Y^   (Y-Y^)^2  \\\n",
       "0  49.0  24.0  -0.6  -3.4    0.36   11.56    2.04 -2.915903   8.502493   \n",
       "1  65.0  40.0  15.4  12.6  237.16  158.76  194.04  0.174854   0.030574   \n",
       "2  45.0  25.0  -4.6  -2.4   21.16    5.76   11.04  1.311407   1.719789   \n",
       "3  40.0  23.5  -9.6  -3.9   92.16   15.21   37.44  3.845545  14.788219   \n",
       "4  55.0  33.5   5.4   6.1   29.16   37.21   32.94  1.743131   3.038505   \n",
       "\n",
       "          Y^  \n",
       "0  26.915903  \n",
       "1  39.825146  \n",
       "2  23.688593  \n",
       "3  19.654455  \n",
       "4  31.756869  "
      ]
     },
     "execution_count": 18,
     "metadata": {},
     "output_type": "execute_result"
    }
   ],
   "source": [
    "df['Y-Y^'] = df.Y - reta  # Resíduo\n",
    "df['(Y-Y^)^2'] = (df.Y - reta) ** 2\n",
    "df['Y^'] = reta  # Previsto\n",
    "df.head()"
   ]
  },
  {
   "cell_type": "code",
   "execution_count": 19,
   "metadata": {},
   "outputs": [
    {
     "name": "stdout",
     "output_type": "stream",
     "text": [
      "Soma de Quadrados Total: 360.4\n",
      "Soma de Quadrados devido ao Erro aleatório: 312.72639467110713\n",
      "Soma de Quadrados da Regressão: 47.67360532889257\n",
      "Coeficiente de Determinação: 0.8677202959797645\n"
     ]
    }
   ],
   "source": [
    "# Calcular o SQT, SQE, SQR e R2\n",
    "SQT = df['y^2'].sum()\n",
    "SQE = sum((df['Y^'] - df['Y^'].mean()) ** 2)\n",
    "SQR = sum(df[('(Y-Y^)^2')])\n",
    "R2 = SQE/SQT\n",
    "\n",
    "print('Soma de Quadrados Total:', SQT)\n",
    "print('Soma de Quadrados devido ao Erro aleatório:', SQE)\n",
    "print('Soma de Quadrados da Regressão:', SQR)\n",
    "print('Coeficiente de Determinação:', R2)"
   ]
  },
  {
   "cell_type": "code",
   "execution_count": null,
   "metadata": {},
   "outputs": [],
   "source": [
    "# Biblioteca: statsmodels"
   ]
  }
 ],
 "metadata": {
  "kernelspec": {
   "display_name": "Python 3",
   "language": "python",
   "name": "python3"
  },
  "language_info": {
   "codemirror_mode": {
    "name": "ipython",
    "version": 3
   },
   "file_extension": ".py",
   "mimetype": "text/x-python",
   "name": "python",
   "nbconvert_exporter": "python",
   "pygments_lexer": "ipython3",
   "version": "3.7.9"
  }
 },
 "nbformat": 4,
 "nbformat_minor": 4
}
